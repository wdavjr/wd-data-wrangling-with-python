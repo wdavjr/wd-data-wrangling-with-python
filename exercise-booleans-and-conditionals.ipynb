{
 "cells": [
  {
   "cell_type": "markdown",
   "id": "b2343ee3",
   "metadata": {
    "papermill": {
     "duration": 0.013517,
     "end_time": "2024-10-20T21:17:15.639279",
     "exception": false,
     "start_time": "2024-10-20T21:17:15.625762",
     "status": "completed"
    },
    "tags": []
   },
   "source": [
    "**This notebook is an exercise in the [Python](https://www.kaggle.com/learn/python) course.  You can reference the tutorial at [this link](https://www.kaggle.com/colinmorris/booleans-and-conditionals).**\n",
    "\n",
    "---\n"
   ]
  },
  {
   "cell_type": "markdown",
   "id": "342ed160",
   "metadata": {
    "papermill": {
     "duration": 0.012035,
     "end_time": "2024-10-20T21:17:15.663643",
     "exception": false,
     "start_time": "2024-10-20T21:17:15.651608",
     "status": "completed"
    },
    "tags": []
   },
   "source": [
    "In this exercise, you'll put to work what you have learned about booleans and conditionals.\n",
    "\n",
    "To get started, **run the setup code below** before writing your own code (and if you leave this notebook and come back later, don't forget to run the setup code again)."
   ]
  },
  {
   "cell_type": "code",
   "execution_count": 1,
   "id": "aa2396c1",
   "metadata": {
    "execution": {
     "iopub.execute_input": "2024-10-20T21:17:15.690550Z",
     "iopub.status.busy": "2024-10-20T21:17:15.689528Z",
     "iopub.status.idle": "2024-10-20T21:17:16.688528Z",
     "shell.execute_reply": "2024-10-20T21:17:16.687246Z"
    },
    "papermill": {
     "duration": 1.01516,
     "end_time": "2024-10-20T21:17:16.691170",
     "exception": false,
     "start_time": "2024-10-20T21:17:15.676010",
     "status": "completed"
    },
    "tags": []
   },
   "outputs": [
    {
     "name": "stdout",
     "output_type": "stream",
     "text": [
      "Setup complete.\n"
     ]
    }
   ],
   "source": [
    "from learntools.core import binder; binder.bind(globals())\n",
    "from learntools.python.ex3 import *\n",
    "print('Setup complete.')"
   ]
  },
  {
   "cell_type": "markdown",
   "id": "10e345a1",
   "metadata": {
    "papermill": {
     "duration": 0.011815,
     "end_time": "2024-10-20T21:17:16.716218",
     "exception": false,
     "start_time": "2024-10-20T21:17:16.704403",
     "status": "completed"
    },
    "tags": []
   },
   "source": [
    "# 1.\n",
    "\n",
    "Many programming languages have [`sign`](https://en.wikipedia.org/wiki/Sign_function) available as a built-in function. Python doesn't, but we can define our own!\n",
    "\n",
    "In the cell below, define a function called `sign` which takes a numerical argument and returns -1 if it's negative, 1 if it's positive, and 0 if it's 0."
   ]
  },
  {
   "cell_type": "code",
   "execution_count": 2,
   "id": "dc4dc49a",
   "metadata": {
    "execution": {
     "iopub.execute_input": "2024-10-20T21:17:16.742658Z",
     "iopub.status.busy": "2024-10-20T21:17:16.741941Z",
     "iopub.status.idle": "2024-10-20T21:17:16.754547Z",
     "shell.execute_reply": "2024-10-20T21:17:16.753442Z"
    },
    "papermill": {
     "duration": 0.028506,
     "end_time": "2024-10-20T21:17:16.756822",
     "exception": false,
     "start_time": "2024-10-20T21:17:16.728316",
     "status": "completed"
    },
    "tags": []
   },
   "outputs": [
    {
     "data": {
      "application/javascript": [
       "parent.postMessage({\"jupyterEvent\": \"custom.exercise_interaction\", \"data\": {\"outcomeType\": 1, \"valueTowardsCompletion\": 0.2, \"interactionType\": 1, \"questionType\": 2, \"questionId\": \"1_SignFunctionProblem\", \"learnToolsVersion\": \"0.3.4\", \"failureMessage\": \"\", \"exceptionClass\": \"\", \"trace\": \"\"}}, \"*\")"
      ],
      "text/plain": [
       "<IPython.core.display.Javascript object>"
      ]
     },
     "metadata": {},
     "output_type": "display_data"
    },
    {
     "data": {
      "text/markdown": [
       "<span style=\"color:#33cc33\">Correct</span>"
      ],
      "text/plain": [
       "Correct"
      ]
     },
     "metadata": {},
     "output_type": "display_data"
    }
   ],
   "source": [
    "# Your code goes here. Define a function called 'sign'\n",
    "def sign(x):\n",
    "    if x > 0:\n",
    "        return 1\n",
    "    elif x == 0:\n",
    "        return 0\n",
    "    else:\n",
    "        return -1\n",
    "\n",
    "# Check your answer\n",
    "q1.check()"
   ]
  },
  {
   "cell_type": "code",
   "execution_count": 3,
   "id": "db798a3d",
   "metadata": {
    "execution": {
     "iopub.execute_input": "2024-10-20T21:17:16.784644Z",
     "iopub.status.busy": "2024-10-20T21:17:16.783423Z",
     "iopub.status.idle": "2024-10-20T21:17:16.788727Z",
     "shell.execute_reply": "2024-10-20T21:17:16.787570Z"
    },
    "papermill": {
     "duration": 0.021655,
     "end_time": "2024-10-20T21:17:16.791165",
     "exception": false,
     "start_time": "2024-10-20T21:17:16.769510",
     "status": "completed"
    },
    "tags": []
   },
   "outputs": [],
   "source": [
    "#q1.solution()"
   ]
  },
  {
   "cell_type": "markdown",
   "id": "3ef5f751",
   "metadata": {
    "papermill": {
     "duration": 0.012062,
     "end_time": "2024-10-20T21:17:16.815750",
     "exception": false,
     "start_time": "2024-10-20T21:17:16.803688",
     "status": "completed"
    },
    "tags": []
   },
   "source": [
    "# 2.\n",
    "\n",
    "We've decided to add \"logging\" to our `to_smash` function from the previous exercise."
   ]
  },
  {
   "cell_type": "code",
   "execution_count": 4,
   "id": "fba581c6",
   "metadata": {
    "execution": {
     "iopub.execute_input": "2024-10-20T21:17:16.843256Z",
     "iopub.status.busy": "2024-10-20T21:17:16.842450Z",
     "iopub.status.idle": "2024-10-20T21:17:16.851926Z",
     "shell.execute_reply": "2024-10-20T21:17:16.850697Z"
    },
    "papermill": {
     "duration": 0.026916,
     "end_time": "2024-10-20T21:17:16.855456",
     "exception": false,
     "start_time": "2024-10-20T21:17:16.828540",
     "status": "completed"
    },
    "tags": []
   },
   "outputs": [
    {
     "name": "stdout",
     "output_type": "stream",
     "text": [
      "Splitting 91 candies\n"
     ]
    },
    {
     "data": {
      "text/plain": [
       "1"
      ]
     },
     "execution_count": 4,
     "metadata": {},
     "output_type": "execute_result"
    }
   ],
   "source": [
    "def to_smash(total_candies):\n",
    "    \"\"\"Return the number of leftover candies that must be smashed after distributing\n",
    "    the given number of candies evenly between 3 friends.\n",
    "    \n",
    "    >>> to_smash(91)\n",
    "    1\n",
    "    \"\"\"\n",
    "    print(\"Splitting\", total_candies, \"candies\")\n",
    "    return total_candies % 3\n",
    "\n",
    "to_smash(91)"
   ]
  },
  {
   "cell_type": "markdown",
   "id": "4ff7f465",
   "metadata": {
    "papermill": {
     "duration": 0.012401,
     "end_time": "2024-10-20T21:17:16.880747",
     "exception": false,
     "start_time": "2024-10-20T21:17:16.868346",
     "status": "completed"
    },
    "tags": []
   },
   "source": [
    "What happens if we call it with `total_candies = 1`?"
   ]
  },
  {
   "cell_type": "code",
   "execution_count": 5,
   "id": "b4cfe710",
   "metadata": {
    "execution": {
     "iopub.execute_input": "2024-10-20T21:17:16.909330Z",
     "iopub.status.busy": "2024-10-20T21:17:16.908901Z",
     "iopub.status.idle": "2024-10-20T21:17:16.916946Z",
     "shell.execute_reply": "2024-10-20T21:17:16.915751Z"
    },
    "papermill": {
     "duration": 0.025921,
     "end_time": "2024-10-20T21:17:16.919531",
     "exception": false,
     "start_time": "2024-10-20T21:17:16.893610",
     "status": "completed"
    },
    "tags": []
   },
   "outputs": [
    {
     "name": "stdout",
     "output_type": "stream",
     "text": [
      "Splitting 1 candies\n"
     ]
    },
    {
     "data": {
      "text/plain": [
       "1"
      ]
     },
     "execution_count": 5,
     "metadata": {},
     "output_type": "execute_result"
    }
   ],
   "source": [
    "to_smash(1)"
   ]
  },
  {
   "cell_type": "markdown",
   "id": "d18ea524",
   "metadata": {
    "papermill": {
     "duration": 0.01266,
     "end_time": "2024-10-20T21:17:16.945327",
     "exception": false,
     "start_time": "2024-10-20T21:17:16.932667",
     "status": "completed"
    },
    "tags": []
   },
   "source": [
    "That isn't great grammar!\n",
    "\n",
    "Modify the definition in the cell below to correct the grammar of our print statement. (If there's only one candy, we should use the singular \"candy\" instead of the plural \"candies\")"
   ]
  },
  {
   "cell_type": "code",
   "execution_count": 6,
   "id": "ec7e0c35",
   "metadata": {
    "execution": {
     "iopub.execute_input": "2024-10-20T21:17:16.972892Z",
     "iopub.status.busy": "2024-10-20T21:17:16.972473Z",
     "iopub.status.idle": "2024-10-20T21:17:16.981742Z",
     "shell.execute_reply": "2024-10-20T21:17:16.980621Z"
    },
    "papermill": {
     "duration": 0.026307,
     "end_time": "2024-10-20T21:17:16.984549",
     "exception": false,
     "start_time": "2024-10-20T21:17:16.958242",
     "status": "completed"
    },
    "tags": []
   },
   "outputs": [
    {
     "name": "stdout",
     "output_type": "stream",
     "text": [
      "Splitting 91 candies\n",
      "Splitting 1 candies\n"
     ]
    },
    {
     "data": {
      "text/plain": [
       "1"
      ]
     },
     "execution_count": 6,
     "metadata": {},
     "output_type": "execute_result"
    }
   ],
   "source": [
    "def to_smash(total_candies):\n",
    "    \"\"\"Return the number of leftover candies that must be smashed after distributing\n",
    "    the given number of candies evenly between 3 friends.\n",
    "    \n",
    "    >>> to_smash(91)\n",
    "    1\n",
    "    \"\"\"\n",
    "    print(\"Splitting\", total_candies, \"candies\")\n",
    "    return total_candies % 3\n",
    "\n",
    "to_smash(91)\n",
    "to_smash(1)"
   ]
  },
  {
   "cell_type": "markdown",
   "id": "8752ce24",
   "metadata": {
    "papermill": {
     "duration": 0.012896,
     "end_time": "2024-10-20T21:17:17.010588",
     "exception": false,
     "start_time": "2024-10-20T21:17:16.997692",
     "status": "completed"
    },
    "tags": []
   },
   "source": [
    "To get credit for completing this problem, and to see the official answer, run the code cell below."
   ]
  },
  {
   "cell_type": "code",
   "execution_count": 7,
   "id": "58b89bbd",
   "metadata": {
    "execution": {
     "iopub.execute_input": "2024-10-20T21:17:17.038504Z",
     "iopub.status.busy": "2024-10-20T21:17:17.038060Z",
     "iopub.status.idle": "2024-10-20T21:17:17.042780Z",
     "shell.execute_reply": "2024-10-20T21:17:17.041695Z"
    },
    "papermill": {
     "duration": 0.021718,
     "end_time": "2024-10-20T21:17:17.045412",
     "exception": false,
     "start_time": "2024-10-20T21:17:17.023694",
     "status": "completed"
    },
    "tags": []
   },
   "outputs": [],
   "source": [
    "# Check your answer (Run this code cell to receive credit!)\n",
    "# q2.solution()"
   ]
  },
  {
   "cell_type": "markdown",
   "id": "0f24187d",
   "metadata": {
    "papermill": {
     "duration": 0.012868,
     "end_time": "2024-10-20T21:17:17.071742",
     "exception": false,
     "start_time": "2024-10-20T21:17:17.058874",
     "status": "completed"
    },
    "tags": []
   },
   "source": [
    "# 3. <span title=\"A bit spicy\" style=\"color: darkgreen \">🌶️</span>\n",
    "\n",
    "In the tutorial, we talked about deciding whether we're prepared for the weather. I said that I'm safe from today's weather if...\n",
    "- I have an umbrella...\n",
    "- or if the rain isn't too heavy and I have a hood...\n",
    "- otherwise, I'm still fine unless it's raining *and* it's a workday\n",
    "\n",
    "The function below uses our first attempt at turning this logic into a Python expression. I claimed that there was a bug in that code. Can you find it?\n",
    "\n",
    "To prove that `prepared_for_weather` is buggy, come up with a set of inputs where either:\n",
    "- the function returns `False` (but should have returned `True`), or\n",
    "- the function returned `True` (but should have returned `False`).\n",
    "\n",
    "To get credit for completing this question, your code should return a <font color='#33cc33'>Correct</font> result."
   ]
  },
  {
   "cell_type": "code",
   "execution_count": 8,
   "id": "a5b1467a",
   "metadata": {
    "execution": {
     "iopub.execute_input": "2024-10-20T21:17:17.100619Z",
     "iopub.status.busy": "2024-10-20T21:17:17.100168Z",
     "iopub.status.idle": "2024-10-20T21:17:17.113065Z",
     "shell.execute_reply": "2024-10-20T21:17:17.111763Z"
    },
    "papermill": {
     "duration": 0.030812,
     "end_time": "2024-10-20T21:17:17.115994",
     "exception": false,
     "start_time": "2024-10-20T21:17:17.085182",
     "status": "completed"
    },
    "tags": []
   },
   "outputs": [
    {
     "name": "stdout",
     "output_type": "stream",
     "text": [
      "False\n"
     ]
    },
    {
     "data": {
      "application/javascript": [
       "parent.postMessage({\"jupyterEvent\": \"custom.exercise_interaction\", \"data\": {\"outcomeType\": 1, \"valueTowardsCompletion\": 0.2, \"interactionType\": 1, \"questionType\": 1, \"questionId\": \"3_WeatherDebug\", \"learnToolsVersion\": \"0.3.4\", \"failureMessage\": \"\", \"exceptionClass\": \"\", \"trace\": \"\"}}, \"*\")"
      ],
      "text/plain": [
       "<IPython.core.display.Javascript object>"
      ]
     },
     "metadata": {},
     "output_type": "display_data"
    },
    {
     "data": {
      "text/markdown": [
       "<span style=\"color:#33cc33\">Correct:</span> \n",
       "\n",
       "One example of a failing test case is:\n",
       "\n",
       "```python\n",
       "have_umbrella = False\n",
       "rain_level = 0.0\n",
       "have_hood = False\n",
       "is_workday = False\n",
       "```\n",
       "\n",
       "Clearly we're prepared for the weather in this case. It's not raining. Not only that, it's not a workday, so we don't even need to leave the house! But our function will return False on these inputs.\n",
       "\n",
       "The key problem is that Python implictly parenthesizes the last part as:\n",
       "\n",
       "```python\n",
       "(not (rain_level > 0)) and is_workday\n",
       "```\n",
       "\n",
       "Whereas what we were trying to express would look more like:\n",
       "\n",
       "```python\n",
       "not (rain_level > 0 and is_workday)\n",
       "```\n"
      ],
      "text/plain": [
       "Correct: \n",
       "\n",
       "One example of a failing test case is:\n",
       "\n",
       "```python\n",
       "have_umbrella = False\n",
       "rain_level = 0.0\n",
       "have_hood = False\n",
       "is_workday = False\n",
       "```\n",
       "\n",
       "Clearly we're prepared for the weather in this case. It's not raining. Not only that, it's not a workday, so we don't even need to leave the house! But our function will return False on these inputs.\n",
       "\n",
       "The key problem is that Python implictly parenthesizes the last part as:\n",
       "\n",
       "```python\n",
       "(not (rain_level > 0)) and is_workday\n",
       "```\n",
       "\n",
       "Whereas what we were trying to express would look more like:\n",
       "\n",
       "```python\n",
       "not (rain_level > 0 and is_workday)\n",
       "```"
      ]
     },
     "metadata": {},
     "output_type": "display_data"
    }
   ],
   "source": [
    "def prepared_for_weather(have_umbrella, rain_level, have_hood, is_workday):\n",
    "    # Don't change this code. Our goal is just to find the bug, not fix it!\n",
    "    return have_umbrella or rain_level < 5 and have_hood or not rain_level > 0 and is_workday\n",
    "\n",
    "# Change the values of these inputs so they represent a case where prepared_for_weather\n",
    "# returns the wrong answer.\n",
    "have_umbrella = False\n",
    "rain_level = 7\n",
    "have_hood = -1\n",
    "is_workday = False\n",
    "\n",
    "# Check what the function returns given the current values of the variables above\n",
    "actual = prepared_for_weather(have_umbrella, rain_level, have_hood, is_workday)\n",
    "print(actual)\n",
    "\n",
    "# Check your answer\n",
    "q3.check()"
   ]
  },
  {
   "cell_type": "code",
   "execution_count": 9,
   "id": "0ea8c092",
   "metadata": {
    "execution": {
     "iopub.execute_input": "2024-10-20T21:17:17.146107Z",
     "iopub.status.busy": "2024-10-20T21:17:17.145641Z",
     "iopub.status.idle": "2024-10-20T21:17:17.151023Z",
     "shell.execute_reply": "2024-10-20T21:17:17.149803Z"
    },
    "papermill": {
     "duration": 0.023141,
     "end_time": "2024-10-20T21:17:17.153534",
     "exception": false,
     "start_time": "2024-10-20T21:17:17.130393",
     "status": "completed"
    },
    "tags": []
   },
   "outputs": [],
   "source": [
    "#q3.hint()\n",
    "#q3.solution()"
   ]
  },
  {
   "cell_type": "markdown",
   "id": "3af1b0b0",
   "metadata": {
    "papermill": {
     "duration": 0.014427,
     "end_time": "2024-10-20T21:17:17.182309",
     "exception": false,
     "start_time": "2024-10-20T21:17:17.167882",
     "status": "completed"
    },
    "tags": []
   },
   "source": [
    "# 4.\n",
    "\n",
    "The function `is_negative` below is implemented correctly - it returns True if the given number is negative and False otherwise.\n",
    "\n",
    "However, it's more verbose than it needs to be. We can actually reduce the number of lines of code in this function by *75%* while keeping the same behaviour. \n",
    "\n",
    "See if you can come up with an equivalent body that uses just **one line** of code, and put it in the function `concise_is_negative`. (HINT: you don't even need Python's ternary syntax)"
   ]
  },
  {
   "cell_type": "code",
   "execution_count": 10,
   "id": "76fde6e6",
   "metadata": {
    "execution": {
     "iopub.execute_input": "2024-10-20T21:17:17.211636Z",
     "iopub.status.busy": "2024-10-20T21:17:17.211179Z",
     "iopub.status.idle": "2024-10-20T21:17:17.221309Z",
     "shell.execute_reply": "2024-10-20T21:17:17.220254Z"
    },
    "papermill": {
     "duration": 0.027645,
     "end_time": "2024-10-20T21:17:17.223783",
     "exception": false,
     "start_time": "2024-10-20T21:17:17.196138",
     "status": "completed"
    },
    "tags": []
   },
   "outputs": [
    {
     "data": {
      "application/javascript": [
       "parent.postMessage({\"jupyterEvent\": \"custom.exercise_interaction\", \"data\": {\"outcomeType\": 1, \"valueTowardsCompletion\": 0.2, \"interactionType\": 1, \"questionType\": 2, \"questionId\": \"4_ConciseIsNegative\", \"learnToolsVersion\": \"0.3.4\", \"failureMessage\": \"\", \"exceptionClass\": \"\", \"trace\": \"\"}}, \"*\")"
      ],
      "text/plain": [
       "<IPython.core.display.Javascript object>"
      ]
     },
     "metadata": {},
     "output_type": "display_data"
    },
    {
     "data": {
      "text/markdown": [
       "<span style=\"color:#33cc33\">Correct</span>"
      ],
      "text/plain": [
       "Correct"
      ]
     },
     "metadata": {},
     "output_type": "display_data"
    }
   ],
   "source": [
    "def is_negative(number):\n",
    "    if number < 0:\n",
    "        return True\n",
    "    else:\n",
    "        return False\n",
    "\n",
    "def concise_is_negative(number):\n",
    "    return True if number < 0 else False\n",
    "\n",
    "# Check your answer\n",
    "q4.check()"
   ]
  },
  {
   "cell_type": "code",
   "execution_count": 11,
   "id": "ef37de71",
   "metadata": {
    "execution": {
     "iopub.execute_input": "2024-10-20T21:17:17.253810Z",
     "iopub.status.busy": "2024-10-20T21:17:17.253367Z",
     "iopub.status.idle": "2024-10-20T21:17:17.258323Z",
     "shell.execute_reply": "2024-10-20T21:17:17.257097Z"
    },
    "papermill": {
     "duration": 0.02308,
     "end_time": "2024-10-20T21:17:17.261026",
     "exception": false,
     "start_time": "2024-10-20T21:17:17.237946",
     "status": "completed"
    },
    "tags": []
   },
   "outputs": [],
   "source": [
    "#q4.hint()\n",
    "#q4.solution()"
   ]
  },
  {
   "cell_type": "markdown",
   "id": "dc1c141b",
   "metadata": {
    "papermill": {
     "duration": 0.01368,
     "end_time": "2024-10-20T21:17:17.288825",
     "exception": false,
     "start_time": "2024-10-20T21:17:17.275145",
     "status": "completed"
    },
    "tags": []
   },
   "source": [
    "# 5a.\n",
    "\n",
    "The boolean variables `ketchup`, `mustard` and `onion` represent whether a customer wants a particular topping on their hot dog. We want to implement a number of boolean functions that correspond to some yes-or-no questions about the customer's order. For example:"
   ]
  },
  {
   "cell_type": "code",
   "execution_count": 12,
   "id": "d1f26b9e",
   "metadata": {
    "execution": {
     "iopub.execute_input": "2024-10-20T21:17:17.319106Z",
     "iopub.status.busy": "2024-10-20T21:17:17.318255Z",
     "iopub.status.idle": "2024-10-20T21:17:17.323408Z",
     "shell.execute_reply": "2024-10-20T21:17:17.322349Z"
    },
    "papermill": {
     "duration": 0.022818,
     "end_time": "2024-10-20T21:17:17.325745",
     "exception": false,
     "start_time": "2024-10-20T21:17:17.302927",
     "status": "completed"
    },
    "tags": []
   },
   "outputs": [],
   "source": [
    "def onionless(ketchup, mustard, onion):\n",
    "    \"\"\"Return whether the customer doesn't want onions.\n",
    "    \"\"\"\n",
    "    return not onion"
   ]
  },
  {
   "cell_type": "code",
   "execution_count": 13,
   "id": "6f337957",
   "metadata": {
    "execution": {
     "iopub.execute_input": "2024-10-20T21:17:17.356604Z",
     "iopub.status.busy": "2024-10-20T21:17:17.355621Z",
     "iopub.status.idle": "2024-10-20T21:17:17.365859Z",
     "shell.execute_reply": "2024-10-20T21:17:17.364553Z"
    },
    "papermill": {
     "duration": 0.028204,
     "end_time": "2024-10-20T21:17:17.368162",
     "exception": false,
     "start_time": "2024-10-20T21:17:17.339958",
     "status": "completed"
    },
    "tags": []
   },
   "outputs": [
    {
     "data": {
      "application/javascript": [
       "parent.postMessage({\"jupyterEvent\": \"custom.exercise_interaction\", \"data\": {\"outcomeType\": 1, \"valueTowardsCompletion\": 0.2, \"interactionType\": 1, \"questionType\": 2, \"questionId\": \"5.1_AllToppings\", \"learnToolsVersion\": \"0.3.4\", \"failureMessage\": \"\", \"exceptionClass\": \"\", \"trace\": \"\"}}, \"*\")"
      ],
      "text/plain": [
       "<IPython.core.display.Javascript object>"
      ]
     },
     "metadata": {},
     "output_type": "display_data"
    },
    {
     "data": {
      "text/markdown": [
       "<span style=\"color:#33cc33\">Correct</span>"
      ],
      "text/plain": [
       "Correct"
      ]
     },
     "metadata": {},
     "output_type": "display_data"
    }
   ],
   "source": [
    "def wants_all_toppings(ketchup, mustard, onion):\n",
    "    \"\"\"Return whether the customer wants \"the works\" (all 3 toppings)\n",
    "    \"\"\"\n",
    "    return ketchup and mustard and onion\n",
    "\n",
    "# Check your answer\n",
    "q5.a.check()"
   ]
  },
  {
   "cell_type": "code",
   "execution_count": 14,
   "id": "116a3597",
   "metadata": {
    "execution": {
     "iopub.execute_input": "2024-10-20T21:17:17.399352Z",
     "iopub.status.busy": "2024-10-20T21:17:17.398239Z",
     "iopub.status.idle": "2024-10-20T21:17:17.403130Z",
     "shell.execute_reply": "2024-10-20T21:17:17.402032Z"
    },
    "papermill": {
     "duration": 0.023055,
     "end_time": "2024-10-20T21:17:17.405596",
     "exception": false,
     "start_time": "2024-10-20T21:17:17.382541",
     "status": "completed"
    },
    "tags": []
   },
   "outputs": [],
   "source": [
    "# q5.a.hint()\n",
    "# q5.a.solution()"
   ]
  },
  {
   "cell_type": "markdown",
   "id": "96d0fbb0",
   "metadata": {
    "papermill": {
     "duration": 0.014007,
     "end_time": "2024-10-20T21:17:17.434072",
     "exception": false,
     "start_time": "2024-10-20T21:17:17.420065",
     "status": "completed"
    },
    "tags": []
   },
   "source": [
    "# 5b.\n",
    "\n",
    "For the next function, fill in the body to match the English description in the docstring. "
   ]
  },
  {
   "cell_type": "code",
   "execution_count": 15,
   "id": "7111fad9",
   "metadata": {
    "execution": {
     "iopub.execute_input": "2024-10-20T21:17:17.465052Z",
     "iopub.status.busy": "2024-10-20T21:17:17.464634Z",
     "iopub.status.idle": "2024-10-20T21:17:17.475129Z",
     "shell.execute_reply": "2024-10-20T21:17:17.474050Z"
    },
    "papermill": {
     "duration": 0.029029,
     "end_time": "2024-10-20T21:17:17.477459",
     "exception": false,
     "start_time": "2024-10-20T21:17:17.448430",
     "status": "completed"
    },
    "tags": []
   },
   "outputs": [
    {
     "data": {
      "application/javascript": [
       "parent.postMessage({\"jupyterEvent\": \"custom.exercise_interaction\", \"data\": {\"outcomeType\": 1, \"valueTowardsCompletion\": 0.2, \"interactionType\": 1, \"questionType\": 2, \"questionId\": \"5.2_PlainDog\", \"learnToolsVersion\": \"0.3.4\", \"failureMessage\": \"\", \"exceptionClass\": \"\", \"trace\": \"\"}}, \"*\")"
      ],
      "text/plain": [
       "<IPython.core.display.Javascript object>"
      ]
     },
     "metadata": {},
     "output_type": "display_data"
    },
    {
     "data": {
      "text/markdown": [
       "<span style=\"color:#33cc33\">Correct:</span> \n",
       "\n",
       "One solution looks like:\n",
       "```python\n",
       "return not ketchup and not mustard and not onion\n",
       "```\n",
       "\n",
       "We can also [\"factor out\" the nots](https://en.wikipedia.org/wiki/De_Morgan%27s_laws) to get:\n",
       "\n",
       "```python\n",
       "return not (ketchup or mustard or onion)\n",
       "```"
      ],
      "text/plain": [
       "Correct: \n",
       "\n",
       "One solution looks like:\n",
       "```python\n",
       "return not ketchup and not mustard and not onion\n",
       "```\n",
       "\n",
       "We can also [\"factor out\" the nots](https://en.wikipedia.org/wiki/De_Morgan%27s_laws) to get:\n",
       "\n",
       "```python\n",
       "return not (ketchup or mustard or onion)\n",
       "```"
      ]
     },
     "metadata": {},
     "output_type": "display_data"
    }
   ],
   "source": [
    "def wants_plain_hotdog(ketchup, mustard, onion):\n",
    "    \"\"\"Return whether the customer wants a plain hot dog with no toppings.\n",
    "    \"\"\"\n",
    "    return not ketchup and not mustard and not onion\n",
    "\n",
    "# Check your answer\n",
    "q5.b.check()"
   ]
  },
  {
   "cell_type": "code",
   "execution_count": 16,
   "id": "b8ee3b17",
   "metadata": {
    "execution": {
     "iopub.execute_input": "2024-10-20T21:17:17.509579Z",
     "iopub.status.busy": "2024-10-20T21:17:17.509168Z",
     "iopub.status.idle": "2024-10-20T21:17:17.514304Z",
     "shell.execute_reply": "2024-10-20T21:17:17.512935Z"
    },
    "papermill": {
     "duration": 0.024253,
     "end_time": "2024-10-20T21:17:17.516803",
     "exception": false,
     "start_time": "2024-10-20T21:17:17.492550",
     "status": "completed"
    },
    "tags": []
   },
   "outputs": [],
   "source": [
    "#q5.b.hint()\n",
    "#q5.b.solution()"
   ]
  },
  {
   "cell_type": "markdown",
   "id": "5ccfaabe",
   "metadata": {
    "papermill": {
     "duration": 0.014438,
     "end_time": "2024-10-20T21:17:17.546385",
     "exception": false,
     "start_time": "2024-10-20T21:17:17.531947",
     "status": "completed"
    },
    "tags": []
   },
   "source": [
    "# 5c.\n",
    "\n",
    "You know what to do: for the next function, fill in the body to match the English description in the docstring."
   ]
  },
  {
   "cell_type": "code",
   "execution_count": 17,
   "id": "d07d3c81",
   "metadata": {
    "execution": {
     "iopub.execute_input": "2024-10-20T21:17:17.577990Z",
     "iopub.status.busy": "2024-10-20T21:17:17.577544Z",
     "iopub.status.idle": "2024-10-20T21:17:17.587910Z",
     "shell.execute_reply": "2024-10-20T21:17:17.586738Z"
    },
    "papermill": {
     "duration": 0.02902,
     "end_time": "2024-10-20T21:17:17.590317",
     "exception": false,
     "start_time": "2024-10-20T21:17:17.561297",
     "status": "completed"
    },
    "tags": []
   },
   "outputs": [
    {
     "data": {
      "application/javascript": [
       "parent.postMessage({\"jupyterEvent\": \"custom.exercise_interaction\", \"data\": {\"outcomeType\": 1, \"valueTowardsCompletion\": 0.2, \"interactionType\": 1, \"questionType\": 2, \"questionId\": \"5.3_OneSauce\", \"learnToolsVersion\": \"0.3.4\", \"failureMessage\": \"\", \"exceptionClass\": \"\", \"trace\": \"\"}}, \"*\")"
      ],
      "text/plain": [
       "<IPython.core.display.Javascript object>"
      ]
     },
     "metadata": {},
     "output_type": "display_data"
    },
    {
     "data": {
      "text/markdown": [
       "<span style=\"color:#33cc33\">Correct</span>"
      ],
      "text/plain": [
       "Correct"
      ]
     },
     "metadata": {},
     "output_type": "display_data"
    }
   ],
   "source": [
    "def exactly_one_sauce(ketchup, mustard, onion):\n",
    "    \"\"\"Return whether the customer wants either ketchup or mustard, but not both.\n",
    "    (You may be familiar with this operation under the name \"exclusive or\")\n",
    "    \"\"\"\n",
    "    return (not ketchup or not mustard) and onion\n",
    "\n",
    "# Check your answer\n",
    "q5.c.check()"
   ]
  },
  {
   "cell_type": "code",
   "execution_count": 18,
   "id": "ed2a3fbd",
   "metadata": {
    "execution": {
     "iopub.execute_input": "2024-10-20T21:17:17.622514Z",
     "iopub.status.busy": "2024-10-20T21:17:17.622069Z",
     "iopub.status.idle": "2024-10-20T21:17:17.626820Z",
     "shell.execute_reply": "2024-10-20T21:17:17.625666Z"
    },
    "papermill": {
     "duration": 0.023311,
     "end_time": "2024-10-20T21:17:17.629182",
     "exception": false,
     "start_time": "2024-10-20T21:17:17.605871",
     "status": "completed"
    },
    "tags": []
   },
   "outputs": [],
   "source": [
    "#q5.c.hint()\n",
    "#q5.c.solution()"
   ]
  },
  {
   "cell_type": "markdown",
   "id": "5a70e170",
   "metadata": {
    "papermill": {
     "duration": 0.015018,
     "end_time": "2024-10-20T21:17:17.659253",
     "exception": false,
     "start_time": "2024-10-20T21:17:17.644235",
     "status": "completed"
    },
    "tags": []
   },
   "source": [
    "# 6. <span title=\"A bit spicy\" style=\"color: darkgreen \">🌶️</span>\n",
    "\n",
    "We’ve seen that calling `bool()` on an integer returns `False` if it’s equal to 0 and `True` otherwise. What happens if we call `int()` on a bool? Try it out in the notebook cell below.\n",
    "\n",
    "Can you take advantage of this to write a succinct function that corresponds to the English sentence \"does the customer want exactly one topping?\"?"
   ]
  },
  {
   "cell_type": "code",
   "execution_count": 19,
   "id": "47685922",
   "metadata": {
    "execution": {
     "iopub.execute_input": "2024-10-20T21:17:17.691191Z",
     "iopub.status.busy": "2024-10-20T21:17:17.690692Z",
     "iopub.status.idle": "2024-10-20T21:17:17.701582Z",
     "shell.execute_reply": "2024-10-20T21:17:17.700297Z"
    },
    "papermill": {
     "duration": 0.029664,
     "end_time": "2024-10-20T21:17:17.703971",
     "exception": false,
     "start_time": "2024-10-20T21:17:17.674307",
     "status": "completed"
    },
    "tags": []
   },
   "outputs": [
    {
     "data": {
      "application/javascript": [
       "parent.postMessage({\"jupyterEvent\": \"custom.exercise_interaction\", \"data\": {\"outcomeType\": 1, \"valueTowardsCompletion\": 0.2, \"interactionType\": 1, \"questionType\": 2, \"questionId\": \"6_OneTopping\", \"learnToolsVersion\": \"0.3.4\", \"failureMessage\": \"\", \"exceptionClass\": \"\", \"trace\": \"\"}}, \"*\")"
      ],
      "text/plain": [
       "<IPython.core.display.Javascript object>"
      ]
     },
     "metadata": {},
     "output_type": "display_data"
    },
    {
     "data": {
      "text/markdown": [
       "<span style=\"color:#33cc33\">Correct:</span> \n",
       "\n",
       "This condition would be pretty complicated to express using just `and`, `or` and `not`, but using boolean-to-integer conversion gives us this short solution:\n",
       "```python\n",
       "return (int(ketchup) + int(mustard) + int(onion)) == 1\n",
       "```\n",
       "\n",
       "Fun fact: we don't technically need to call `int` on the arguments. Just by doing addition with booleans, Python implicitly does the integer conversion. So we could also write...\n",
       "\n",
       "```python\n",
       "return (ketchup + mustard + onion) == 1\n",
       "```"
      ],
      "text/plain": [
       "Correct: \n",
       "\n",
       "This condition would be pretty complicated to express using just `and`, `or` and `not`, but using boolean-to-integer conversion gives us this short solution:\n",
       "```python\n",
       "return (int(ketchup) + int(mustard) + int(onion)) == 1\n",
       "```\n",
       "\n",
       "Fun fact: we don't technically need to call `int` on the arguments. Just by doing addition with booleans, Python implicitly does the integer conversion. So we could also write...\n",
       "\n",
       "```python\n",
       "return (ketchup + mustard + onion) == 1\n",
       "```"
      ]
     },
     "metadata": {},
     "output_type": "display_data"
    }
   ],
   "source": [
    "def exactly_one_topping(ketchup, mustard, onion):\n",
    "    \"\"\"Return whether the customer wants exactly one of the three available toppings\n",
    "    on their hot dog.\n",
    "    \"\"\"\n",
    "    return (ketchup + mustard + onion) == 1\n",
    "\n",
    "# Check your answer\n",
    "q6.check()"
   ]
  },
  {
   "cell_type": "code",
   "execution_count": 20,
   "id": "6eadf746",
   "metadata": {
    "execution": {
     "iopub.execute_input": "2024-10-20T21:17:17.737264Z",
     "iopub.status.busy": "2024-10-20T21:17:17.736467Z",
     "iopub.status.idle": "2024-10-20T21:17:17.741240Z",
     "shell.execute_reply": "2024-10-20T21:17:17.740121Z"
    },
    "papermill": {
     "duration": 0.024625,
     "end_time": "2024-10-20T21:17:17.744034",
     "exception": false,
     "start_time": "2024-10-20T21:17:17.719409",
     "status": "completed"
    },
    "tags": []
   },
   "outputs": [],
   "source": [
    "# q6.hint()\n",
    "# q6.solution()"
   ]
  },
  {
   "cell_type": "markdown",
   "id": "c993f40c",
   "metadata": {
    "papermill": {
     "duration": 0.015145,
     "end_time": "2024-10-20T21:17:17.775326",
     "exception": false,
     "start_time": "2024-10-20T21:17:17.760181",
     "status": "completed"
    },
    "tags": []
   },
   "source": [
    "# 7. <span title=\"A bit spicy\" style=\"color: darkgreen \">🌶️</span> (Optional)\n",
    "\n",
    "In this problem we'll be working with a simplified version of [blackjack](https://en.wikipedia.org/wiki/Blackjack) (aka twenty-one). In this version there is one player (who you'll control) and a dealer. Play proceeds as follows:\n",
    "\n",
    "- The player is dealt two face-up cards. The dealer is dealt one face-up card.\n",
    "- The player may ask to be dealt another card ('hit') as many times as they wish. If the sum of their cards exceeds 21, they lose the round immediately.\n",
    "- The dealer then deals additional cards to himself until either:\n",
    "    - the sum of the dealer's cards exceeds 21, in which case the player wins the round\n",
    "    - the sum of the dealer's cards is greater than or equal to 17. If the player's total is greater than the dealer's, the player wins. Otherwise, the dealer wins (even in case of a tie).\n",
    "    \n",
    "When calculating the sum of cards, Jack, Queen, and King count for 10. Aces can count as 1 or 11 (when referring to a player's \"total\" above, we mean the largest total that can be made without exceeding 21. So e.g. A+8 = 19, A+8+8 = 17)\n",
    "\n",
    "For this problem, you'll write a function representing the player's decision-making strategy in this game. We've provided a very unintelligent implementation below:"
   ]
  },
  {
   "cell_type": "code",
   "execution_count": 21,
   "id": "f2d51af9",
   "metadata": {
    "execution": {
     "iopub.execute_input": "2024-10-20T21:17:17.808539Z",
     "iopub.status.busy": "2024-10-20T21:17:17.807570Z",
     "iopub.status.idle": "2024-10-20T21:17:17.813492Z",
     "shell.execute_reply": "2024-10-20T21:17:17.812288Z"
    },
    "papermill": {
     "duration": 0.025186,
     "end_time": "2024-10-20T21:17:17.815987",
     "exception": false,
     "start_time": "2024-10-20T21:17:17.790801",
     "status": "completed"
    },
    "tags": []
   },
   "outputs": [],
   "source": [
    "def should_hit(dealer_total, player_total, player_low_aces, player_high_aces):\n",
    "    \"\"\"Return True if the player should hit (request another card) given the current game\n",
    "    state, or False if the player should stay.\n",
    "    When calculating a hand's total value, we count aces as \"high\" (with value 11) if doing so\n",
    "    doesn't bring the total above 21, otherwise we count them as low (with value 1). \n",
    "    For example, if the player's hand is {A, A, A, 7}, we will count it as 11 + 1 + 1 + 7,\n",
    "    and therefore set player_total=20, player_low_aces=2, player_high_aces=1.\n",
    "    \"\"\"\n",
    "    return False"
   ]
  },
  {
   "cell_type": "markdown",
   "id": "6ed5708b",
   "metadata": {
    "papermill": {
     "duration": 0.015944,
     "end_time": "2024-10-20T21:17:17.847504",
     "exception": false,
     "start_time": "2024-10-20T21:17:17.831560",
     "status": "completed"
    },
    "tags": []
   },
   "source": [
    "This very conservative agent *always* sticks with the hand of two cards that they're dealt.\n",
    "\n",
    "We'll be simulating games between your player agent and our own dealer agent by calling your function.\n",
    "\n",
    "Try running the function below to see an example of a simulated game:"
   ]
  },
  {
   "cell_type": "code",
   "execution_count": 22,
   "id": "52608c0a",
   "metadata": {
    "execution": {
     "iopub.execute_input": "2024-10-20T21:17:17.880479Z",
     "iopub.status.busy": "2024-10-20T21:17:17.880016Z",
     "iopub.status.idle": "2024-10-20T21:17:17.886239Z",
     "shell.execute_reply": "2024-10-20T21:17:17.885158Z"
    },
    "papermill": {
     "duration": 0.025509,
     "end_time": "2024-10-20T21:17:17.888654",
     "exception": false,
     "start_time": "2024-10-20T21:17:17.863145",
     "status": "completed"
    },
    "tags": []
   },
   "outputs": [
    {
     "name": "stdout",
     "output_type": "stream",
     "text": [
      "Player starts with 9 and 2 (total = 11)\n",
      "Dealer starts with 4\n",
      "\n",
      "__Player's turn__\n",
      "Player stays\n",
      "\n",
      "__Dealer's turn__\n",
      "Dealer hits and receives Q. (total = 14)\n",
      "Dealer hits and receives 8. (total = 22)\n",
      "Dealer busts! Player wins.\n"
     ]
    }
   ],
   "source": [
    "q7.simulate_one_game()"
   ]
  },
  {
   "cell_type": "markdown",
   "id": "63f58b3f",
   "metadata": {
    "papermill": {
     "duration": 0.017028,
     "end_time": "2024-10-20T21:17:17.921277",
     "exception": false,
     "start_time": "2024-10-20T21:17:17.904249",
     "status": "completed"
    },
    "tags": []
   },
   "source": [
    "The real test of your agent's mettle is their average win rate over many games. Try calling the function below to simulate 50000 games of blackjack (it may take a couple seconds):"
   ]
  },
  {
   "cell_type": "code",
   "execution_count": 23,
   "id": "d32ebf66",
   "metadata": {
    "execution": {
     "iopub.execute_input": "2024-10-20T21:17:17.954417Z",
     "iopub.status.busy": "2024-10-20T21:17:17.954006Z",
     "iopub.status.idle": "2024-10-20T21:17:20.165893Z",
     "shell.execute_reply": "2024-10-20T21:17:20.164673Z"
    },
    "papermill": {
     "duration": 2.231838,
     "end_time": "2024-10-20T21:17:20.168834",
     "exception": false,
     "start_time": "2024-10-20T21:17:17.936996",
     "status": "completed"
    },
    "tags": []
   },
   "outputs": [
    {
     "name": "stdout",
     "output_type": "stream",
     "text": [
      "Player won 19081 out of 50000 games (win rate = 38.2%)\n"
     ]
    }
   ],
   "source": [
    "q7.simulate(n_games=50000)"
   ]
  },
  {
   "cell_type": "markdown",
   "id": "c9c2770c",
   "metadata": {
    "papermill": {
     "duration": 0.015405,
     "end_time": "2024-10-20T21:17:20.202446",
     "exception": false,
     "start_time": "2024-10-20T21:17:20.187041",
     "status": "completed"
    },
    "tags": []
   },
   "source": [
    "Our dumb agent that completely ignores the game state still manages to win shockingly often!\n",
    "\n",
    "Try adding some more smarts to the `should_hit` function and see how it affects the results."
   ]
  },
  {
   "cell_type": "code",
   "execution_count": 24,
   "id": "7c5fd9cd",
   "metadata": {
    "execution": {
     "iopub.execute_input": "2024-10-20T21:17:20.235553Z",
     "iopub.status.busy": "2024-10-20T21:17:20.235115Z",
     "iopub.status.idle": "2024-10-20T21:17:22.506060Z",
     "shell.execute_reply": "2024-10-20T21:17:22.504549Z"
    },
    "papermill": {
     "duration": 2.290595,
     "end_time": "2024-10-20T21:17:22.508719",
     "exception": false,
     "start_time": "2024-10-20T21:17:20.218124",
     "status": "completed"
    },
    "tags": []
   },
   "outputs": [
    {
     "name": "stdout",
     "output_type": "stream",
     "text": [
      "Player won 19135 out of 50000 games (win rate = 38.3%)\n"
     ]
    }
   ],
   "source": [
    "def should_hit(dealer_total, player_total, player_low_aces, player_high_aces):\n",
    "    \"\"\"Return True if the player should hit (request another card) given the current game\n",
    "    state, or False if the player should stay.\n",
    "    When calculating a hand's total value, we count aces as \"high\" (with value 11) if doing so\n",
    "    doesn't bring the total above 21, otherwise we count them as low (with value 1). \n",
    "    For example, if the player's hand is {A, A, A, 7}, we will count it as 11 + 1 + 1 + 7,\n",
    "    and therefore set player_total=20, player_low_aces=2, player_high_aces=1.\n",
    "    \"\"\"\n",
    "    return False\n",
    "\n",
    "q7.simulate(n_games=50000)"
   ]
  },
  {
   "cell_type": "markdown",
   "id": "f98549f1",
   "metadata": {
    "papermill": {
     "duration": 0.015465,
     "end_time": "2024-10-20T21:17:22.540071",
     "exception": false,
     "start_time": "2024-10-20T21:17:22.524606",
     "status": "completed"
    },
    "tags": []
   },
   "source": [
    "# Keep Going\n",
    "\n",
    "Learn about **[lists and tuples](https://www.kaggle.com/colinmorris/lists)** to handle multiple items of data in a systematic way."
   ]
  },
  {
   "cell_type": "markdown",
   "id": "cbf59353",
   "metadata": {
    "papermill": {
     "duration": 0.015295,
     "end_time": "2024-10-20T21:17:22.571016",
     "exception": false,
     "start_time": "2024-10-20T21:17:22.555721",
     "status": "completed"
    },
    "tags": []
   },
   "source": [
    "---\n",
    "\n",
    "\n",
    "\n",
    "\n",
    "*Have questions or comments? Visit the [course discussion forum](https://www.kaggle.com/learn/python/discussion) to chat with other learners.*"
   ]
  }
 ],
 "metadata": {
  "kaggle": {
   "accelerator": "none",
   "dataSources": [],
   "isGpuEnabled": false,
   "isInternetEnabled": false,
   "language": "python",
   "sourceType": "notebook"
  },
  "kernelspec": {
   "display_name": "Python 3",
   "language": "python",
   "name": "python3"
  },
  "language_info": {
   "codemirror_mode": {
    "name": "ipython",
    "version": 3
   },
   "file_extension": ".py",
   "mimetype": "text/x-python",
   "name": "python",
   "nbconvert_exporter": "python",
   "pygments_lexer": "ipython3",
   "version": "3.10.14"
  },
  "learntools_metadata": {
   "lesson_index": 2,
   "type": "exercise"
  },
  "papermill": {
   "default_parameters": {},
   "duration": 10.533116,
   "end_time": "2024-10-20T21:17:23.107606",
   "environment_variables": {},
   "exception": null,
   "input_path": "__notebook__.ipynb",
   "output_path": "__notebook__.ipynb",
   "parameters": {},
   "start_time": "2024-10-20T21:17:12.574490",
   "version": "2.6.0"
  }
 },
 "nbformat": 4,
 "nbformat_minor": 5
}
